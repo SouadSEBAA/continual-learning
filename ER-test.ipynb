{
 "cells": [
  {
   "cell_type": "code",
   "execution_count": 1,
   "id": "a00a09c9",
   "metadata": {},
   "outputs": [
    {
     "name": "stderr",
     "output_type": "stream",
     "text": [
      "/home/chenx3n/miniconda3/lib/python3.9/site-packages/tqdm/auto.py:21: TqdmWarning: IProgress not found. Please update jupyter and ipywidgets. See https://ipywidgets.readthedocs.io/en/stable/user_install.html\n",
      "  from .autonotebook import tqdm as notebook_tqdm\n"
     ]
    }
   ],
   "source": [
    "# Load required libraries\n",
    "import torch\n",
    "from torch import optim\n",
    "import copy\n",
    "import numpy as np\n",
    "# -custom-written libraries\n",
    "import utils\n",
    "from data.load import get_context_set\n",
    "from models.classifier import Classifier\n",
    "from train.train_task_based import train_cl\n",
    "from eval import evaluate, callbacks as cb\n",
    "from visual import visual_plt"
   ]
  },
  {
   "cell_type": "code",
   "execution_count": 2,
   "id": "cb0539a1",
   "metadata": {},
   "outputs": [],
   "source": [
    "# Enable plotting in the notebook\n",
    "%matplotlib inline  "
   ]
  },
  {
   "cell_type": "code",
   "execution_count": 3,
   "id": "57e3b84a",
   "metadata": {},
   "outputs": [
    {
     "name": "stdout",
     "output_type": "stream",
     "text": [
      "CUDA is not used\n"
     ]
    }
   ],
   "source": [
    "# Is cuda available?\n",
    "cuda = torch.cuda.is_available()\n",
    "device = torch.device(\"cuda\" if cuda else \"cpu\")\n",
    "print(\"CUDA is {}used\".format(\"\" if cuda else \"not \"))"
   ]
  },
  {
   "attachments": {},
   "cell_type": "markdown",
   "id": "320f9e43",
   "metadata": {},
   "source": [
    "## DATA: Prepare the data"
   ]
  },
  {
   "cell_type": "code",
   "execution_count": 4,
   "id": "c6ead555",
   "metadata": {},
   "outputs": [],
   "source": [
    "# Specify what kind of continual learning experiment we should run\n",
    "experiment = \"5GNIDD\"  #--> create context set by splitting up the MNIST dataset\n",
    "contexts = 4               #--> split the dataset up into how many contexts?\n",
    "iters = 2000                #--> number of iterations per context\n",
    "batch = 128                #--> number of samples per iteration (i.e., the mini-batch size)"
   ]
  },
  {
   "cell_type": "code",
   "execution_count": 5,
   "id": "6938c284",
   "metadata": {},
   "outputs": [],
   "source": [
    "# More params\n",
    "acc_log = iters\n",
    "acc_n = 1024"
   ]
  },
  {
   "cell_type": "code",
   "execution_count": 6,
   "id": "28298d14",
   "metadata": {},
   "outputs": [],
   "source": [
    "# Specify according to which scenario the continual learning experiment should be performed?\n",
    "scenario = \"class\""
   ]
  },
  {
   "cell_type": "code",
   "execution_count": 7,
   "id": "2746c66a",
   "metadata": {},
   "outputs": [],
   "source": [
    "# Where is, or should, the data be stored?\n",
    "d_dir = './store/datasets'"
   ]
  },
  {
   "cell_type": "code",
   "execution_count": 8,
   "id": "d9b6f329",
   "metadata": {},
   "outputs": [
    {
     "name": "stdout",
     "output_type": "stream",
     "text": [
      "\n",
      "LabelEncoder mappings:\n",
      "Benign --> 0\n",
      "HTTPFlood --> 1\n",
      "ICMPFlood --> 2\n",
      "SYNFlood --> 3\n",
      "SYNScan --> 4\n",
      "SlowrateDoS --> 5\n",
      "TCPConnectScan --> 6\n",
      "UDPFlood --> 7\n",
      " --> 5GNIDD: 'train'-dataset consisting of 600452 samples\n",
      "\n",
      "Scenario: 3\n",
      "\n",
      "\n",
      "context 0: \n",
      "\tcounts: {0: 179063, 1: 60197, 2: 866, 3: 7291}\n",
      "\tpercentages: {0: 0.7237, 1: 0.2433, 2: 0.0035, 3: 0.0295}\n",
      "\n",
      "\n",
      "context 1: \n",
      "\tcounts: {0: 179064, 1: 60198}\n",
      "\tpercentages: {0: 0.7484, 1: 0.2516}\n",
      "\n",
      "\n",
      "context 2: \n",
      "\tcounts: {0: 179063}\n",
      "\tpercentages: {0: 1.0}\n",
      "\n",
      "\n",
      "context 3: \n",
      "\tcounts: {0: 179063, 2: 866, 3: 7291}\n",
      "\tpercentages: {0: 0.9564, 2: 0.0046, 3: 0.0389}\n"
     ]
    }
   ],
   "source": [
    "# Load the context set (both train- and test-data) for the specified continual learning experiment\n",
    "(train_datasets, test_datasets), config = get_context_set(\n",
    "    name=experiment, scenario=scenario, contexts=contexts, data_dir=d_dir, verbose=True, exception=True,\n",
    ")"
   ]
  },
  {
   "attachments": {},
   "cell_type": "markdown",
   "id": "51fc95ea",
   "metadata": {},
   "source": [
    "## CLASSIFIER: Specify the classifier network"
   ]
  },
  {
   "cell_type": "code",
   "execution_count": 9,
   "id": "06a212fa",
   "metadata": {},
   "outputs": [],
   "source": [
    "# Specify the architectural layout of the network to use\n",
    "fc_lay = 4        #--> number of fully-connected layers\n",
    "fc_units = 300    #--> number of units in each hidden layer\n",
    "fc_bn = False     #--> use batch-norm\n",
    "fc_nl = \"relu\"    #--> what non-linearity to use?"
   ]
  },
  {
   "cell_type": "code",
   "execution_count": 10,
   "id": "a9749091",
   "metadata": {},
   "outputs": [],
   "source": [
    "# Define the model\n",
    "model = Classifier(\n",
    "    image_size=config['size'], image_channels=config['channels'], classes=config['output_units'],\n",
    "    # -conv-layers are not used\n",
    "    depth=0,\n",
    "    # -fc-layers\n",
    "    fc_layers=fc_lay, fc_units=fc_units, fc_bn=fc_bn, fc_nl=fc_nl, excit_buffer=True,\n",
    ").to(device)"
   ]
  },
  {
   "cell_type": "code",
   "execution_count": 11,
   "id": "d6b15c63",
   "metadata": {},
   "outputs": [],
   "source": [
    "# Indicate to model what scenario it will be trained on and how many classes there are in each context\n",
    "model.scenario = scenario\n",
    "model.classes_per_context = config['classes_per_context']"
   ]
  },
  {
   "cell_type": "code",
   "execution_count": 12,
   "id": "749dc0cd",
   "metadata": {},
   "outputs": [
    {
     "name": "stdout",
     "output_type": "stream",
     "text": [
      "-------------------------------------------------------\n",
      "Classifier(\n",
      "  (convE): ConvLayers(\n",
      "    (pooling): Identity()\n",
      "  )\n",
      "  (flatten): Flatten()\n",
      "  (fcE): MLP(\n",
      "    (fcLayer1): fc_layer(\n",
      "      (linear): LinearExcitability(in_features=81, out_features=300)\n",
      "      (nl): ReLU()\n",
      "    )\n",
      "    (fcLayer2): fc_layer(\n",
      "      (linear): LinearExcitability(in_features=300, out_features=300)\n",
      "      (nl): ReLU()\n",
      "    )\n",
      "    (fcLayer3): fc_layer(\n",
      "      (linear): LinearExcitability(in_features=300, out_features=300)\n",
      "      (nl): ReLU()\n",
      "    )\n",
      "  )\n",
      "  (classifier): fc_layer(\n",
      "    (linear): LinearExcitability(in_features=300, out_features=8)\n",
      "  )\n",
      ")\n",
      "-------------------------------------------------------\n",
      "--> this network has 207608 parameters (~0.2 million)\n",
      "       of which: - learnable: 207608 (~0.2 million)\n",
      "                 - fixed: 0 (~0.0 million)\n"
     ]
    }
   ],
   "source": [
    "# Print layout of the model to the screen\n",
    "utils.print_model_info(model)"
   ]
  },
  {
   "attachments": {},
   "cell_type": "markdown",
   "id": "91b36dc3",
   "metadata": {},
   "source": [
    "#### Create several copies of the network, which each will be trained with a different continual learning method "
   ]
  },
  {
   "cell_type": "code",
   "execution_count": 13,
   "id": "6b421901",
   "metadata": {},
   "outputs": [],
   "source": [
    "model_er = copy.deepcopy(model)"
   ]
  },
  {
   "attachments": {},
   "cell_type": "markdown",
   "id": "10f44613",
   "metadata": {},
   "source": [
    "## CL-STRATEGY: Specify the continual learning strategy to use"
   ]
  },
  {
   "attachments": {},
   "cell_type": "markdown",
   "id": "02317fbe",
   "metadata": {},
   "source": [
    "### Replay"
   ]
  },
  {
   "cell_type": "code",
   "execution_count": 14,
   "id": "82668e74",
   "metadata": {},
   "outputs": [],
   "source": [
    "# Experience Replay (ER)\n",
    "model_er.replay_mode = 'buffer'\n",
    "model_er.use_memory_buffer = True\n",
    "model_er.budget_per_class = 100\n",
    "model_er.sample_selection = 'random'"
   ]
  },
  {
   "attachments": {},
   "cell_type": "markdown",
   "id": "6448262e",
   "metadata": {},
   "source": [
    "## CALLBACKS: Specify callback-functions to get insight into training progress"
   ]
  },
  {
   "cell_type": "code",
   "execution_count": 15,
   "id": "198c0fbf",
   "metadata": {},
   "outputs": [],
   "source": [
    "# Callback-function that provides a tqdm progress bar for during training, reporting training loss and accuracy\n",
    "loss_cbs = [cb._classifier_loss_cb(contexts=contexts, iters_per_context=iters)]"
   ]
  },
  {
   "cell_type": "code",
   "execution_count": 16,
   "id": "7e7cdc33",
   "metadata": {},
   "outputs": [],
   "source": [
    "# Prepare for keeping track of performance (on test set) during training, for later plotting\n",
    "plotting_dict_er = evaluate.initiate_plotting_dict(contexts)"
   ]
  },
  {
   "cell_type": "code",
   "execution_count": 17,
   "id": "6b7b35c6",
   "metadata": {},
   "outputs": [],
   "source": [
    "# Callback-function to track test accuracy during training, for later plotting\n",
    "context_cbs_er = [\n",
    "    cb._eval_cb(log=iters, test_datasets=test_datasets, plotting_dict=plotting_dict_er, iters_per_context=iters)\n",
    "]"
   ]
  },
  {
   "cell_type": "code",
   "execution_count": 18,
   "id": "9e271be5",
   "metadata": {},
   "outputs": [],
   "source": [
    "eval_cbs = [\n",
    "    cb._eval_cb(log=acc_log, test_datasets=test_datasets, visdom=None, iters_per_context=iters,\n",
    "                test_size=acc_n)\n",
    "]"
   ]
  },
  {
   "attachments": {},
   "cell_type": "markdown",
   "id": "1c1c8ab1",
   "metadata": {},
   "source": [
    "## TRAIN: Train the model on the continual learning experiment"
   ]
  },
  {
   "cell_type": "code",
   "execution_count": 19,
   "id": "680da4f9",
   "metadata": {},
   "outputs": [],
   "source": [
    "# Settings for the optimizer to use\n",
    "lr = 0.001           #--> learning rate to use"
   ]
  },
  {
   "cell_type": "code",
   "execution_count": 20,
   "id": "8e3602ca",
   "metadata": {},
   "outputs": [],
   "source": [
    "# For each model, set up the optimizer to use\n",
    "model_list = [model_er]\n",
    "for model in model_list:\n",
    "    model.optim_list = [{'params': filter(lambda p: p.requires_grad, model.parameters()), 'lr': lr}]\n",
    "    model.optimizer = optim.Adam(model.optim_list, betas=(0.9, 0.999))"
   ]
  },
  {
   "attachments": {},
   "cell_type": "markdown",
   "id": "cc1dd1bb",
   "metadata": {},
   "source": [
    "#### Train all the models using different continual learning methods"
   ]
  },
  {
   "cell_type": "code",
   "execution_count": 21,
   "id": "f7824f59",
   "metadata": {},
   "outputs": [
    {
     "name": "stderr",
     "output_type": "stream",
     "text": [
      "<CLASSIFIER> | Context: 1/4 | training loss: 0.0174 | training accuracy: 1.0 |: 100%|██████████| 2000/2000 [00:58<00:00, 34.46it/s]  \n",
      "<CLASSIFIER> | Context: 2/4 | training loss: 0.00631 | training accuracy: 1.0 |: 100%|██████████| 2000/2000 [01:03<00:00, 31.46it/s]  \n",
      "<CLASSIFIER> | Context: 3/4 | training loss: 2.7e-05 | training accuracy: 1.0 |: 100%|██████████| 2000/2000 [01:17<00:00, 25.97it/s]  \n",
      "<CLASSIFIER> | Context: 4/4 | training loss: 0.000961 | training accuracy: 1.0 |: 100%|██████████| 2000/2000 [01:02<00:00, 31.82it/s] \n"
     ]
    }
   ],
   "source": [
    "# Experience Replay\n",
    "train_cl(\n",
    "    model_er, train_datasets, iters=iters, batch_size=batch, loss_cbs=loss_cbs, context_cbs=context_cbs_er, eval_cbs=eval_cbs, sample_cbs=[None], gen_loss_cbs=[None], generator=None, gen_iters=iters\n",
    ")"
   ]
  },
  {
   "attachments": {},
   "cell_type": "markdown",
   "id": "41bcf17f",
   "metadata": {},
   "source": [
    "## EVALUATION: Plot average accuracy curves throughout training for compared methods"
   ]
  },
  {
   "cell_type": "code",
   "execution_count": 22,
   "id": "5b128331",
   "metadata": {},
   "outputs": [],
   "source": [
    "# Collect data for the lines to plot\n",
    "lines_to_plot = [\n",
    "    plotting_dict_er[\"average\"]\n",
    "]"
   ]
  },
  {
   "cell_type": "code",
   "execution_count": 23,
   "id": "ae1533dc",
   "metadata": {},
   "outputs": [],
   "source": [
    "# Specify labels and layout for the plot\n",
    "line_names = ['ER']\n",
    "line_colors = ['red']"
   ]
  },
  {
   "cell_type": "code",
   "execution_count": 24,
   "id": "9e5b4617",
   "metadata": {},
   "outputs": [
    {
     "data": {
      "image/png": "[encoded data removed]",
      "text/plain": [
       "<Figure size 1200x700 with 1 Axes>"
      ]
     },
     "metadata": {},
     "output_type": "display_data"
    }
   ],
   "source": [
    "# Create the plot\n",
    "figure = visual_plt.plot_lines(\n",
    "    lines_to_plot, x_axes=plotting_dict_er[\"x_context\"], line_names=line_names, colors=line_colors,\n",
    "    ylabel=\"Test accuracy (averaged over contexts so far)\", ylim=(0,1.05) if scenario==\"class\" else None,\n",
    "    xlabel=\"# of contexts so far\", title=\"{}  --  {}-incremental learning\".format(experiment, scenario)\n",
    ")"
   ]
  },
  {
   "cell_type": "code",
   "execution_count": null,
   "id": "8a5620d1",
   "metadata": {},
   "outputs": [],
   "source": []
  }
 ],
 "metadata": {
  "kernelspec": {
   "display_name": "Python 3 (ipykernel)",
   "language": "python",
   "name": "python3"
  },
  "language_info": {
   "codemirror_mode": {
    "name": "ipython",
    "version": 3
   },
   "file_extension": ".py",
   "mimetype": "text/x-python",
   "name": "python",
   "nbconvert_exporter": "python",
   "pygments_lexer": "ipython3",
   "version": "3.9.16"
  }
 },
 "nbformat": 4,
 "nbformat_minor": 5
}
