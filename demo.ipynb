{
 "cells": [
  {
   "cell_type": "markdown",
   "id": "3c91c00e",
   "metadata": {},
   "source": [
    "# Dataset"
   ]
  },
  {
   "cell_type": "code",
   "execution_count": 1,
   "id": "f75d19c1",
   "metadata": {},
   "outputs": [],
   "source": [
    "import pandas as pd\n",
    "import os\n",
    "\n",
    "DATASET_PATH = './store/datasets/5GNIDD'\n",
    "\n",
    "LABEL_COLUMN = 'Attack Type'"
   ]
  },
  {
   "cell_type": "code",
   "execution_count": 2,
   "id": "c8521b83",
   "metadata": {},
   "outputs": [],
   "source": [
    "# Charger le dataset\n",
    "df = pd.read_csv(DATASET_PATH)"
   ]
  },
  {
   "cell_type": "code",
   "execution_count": 3,
   "id": "d3ba3cb4",
   "metadata": {},
   "outputs": [
    {
     "name": "stdout",
     "output_type": "stream",
     "text": [
      "<class 'pandas.core.frame.DataFrame'>\n",
      "RangeIndex: 522550 entries, 0 to 522549\n",
      "Data columns (total 81 columns):\n",
      " #   Column       Non-Null Count   Dtype  \n",
      "---  ------       --------------   -----  \n",
      " 0   Seq          522550 non-null  int64  \n",
      " 1   Dur          522550 non-null  float64\n",
      " 2   RunTime      522550 non-null  float64\n",
      " 3   Mean         522550 non-null  float64\n",
      " 4   Sum          522550 non-null  float64\n",
      " 5   Min          522550 non-null  float64\n",
      " 6   Max          522550 non-null  float64\n",
      " 7   sTos         522550 non-null  float64\n",
      " 8   sTtl         522550 non-null  float64\n",
      " 9   sHops        522550 non-null  float64\n",
      " 10  TotPkts      522550 non-null  int64  \n",
      " 11  SrcPkts      522550 non-null  int64  \n",
      " 12  DstPkts      522550 non-null  int64  \n",
      " 13  TotBytes     522550 non-null  int64  \n",
      " 14  SrcBytes     522550 non-null  int64  \n",
      " 15  DstBytes     522550 non-null  int64  \n",
      " 16  Offset       522550 non-null  int64  \n",
      " 17  sMeanPktSz   522550 non-null  float64\n",
      " 18  dMeanPktSz   522550 non-null  float64\n",
      " 19  Load         522550 non-null  float64\n",
      " 20  SrcLoad      522550 non-null  float64\n",
      " 21  DstLoad      522550 non-null  float64\n",
      " 22  Loss         522550 non-null  int64  \n",
      " 23  SrcLoss      522550 non-null  int64  \n",
      " 24  DstLoss      522550 non-null  int64  \n",
      " 25  pLoss        522550 non-null  float64\n",
      " 26  Rate         522550 non-null  float64\n",
      " 27  SrcRate      522550 non-null  float64\n",
      " 28  DstRate      522550 non-null  float64\n",
      " 29  TcpRtt       522550 non-null  float64\n",
      " 30  SynAck       522550 non-null  float64\n",
      " 31  AckDat       522550 non-null  float64\n",
      " 32  Attack Type  522550 non-null  object \n",
      " 33   *           522550 non-null  float64\n",
      " 34   *    V      522550 non-null  float64\n",
      " 35   *    f      522550 non-null  float64\n",
      " 36   e           522550 non-null  float64\n",
      " 37   e    f      522550 non-null  float64\n",
      " 38   e &         522550 non-null  float64\n",
      " 39   e *         522550 non-null  float64\n",
      " 40   e d         522550 non-null  float64\n",
      " 41   e g         522550 non-null  float64\n",
      " 42   e i         522550 non-null  float64\n",
      " 43   e r         522550 non-null  float64\n",
      " 44   e s         522550 non-null  float64\n",
      " 45   eU          522550 non-null  float64\n",
      " 46  e            522550 non-null  float64\n",
      " 47  arp          522550 non-null  float64\n",
      " 48  icmp         522550 non-null  float64\n",
      " 49  ipv6-icmp    522550 non-null  float64\n",
      " 50  llc          522550 non-null  float64\n",
      " 51  lldp         522550 non-null  float64\n",
      " 52  sctp         522550 non-null  float64\n",
      " 53  tcp          522550 non-null  float64\n",
      " 54  udp          522550 non-null  float64\n",
      " 55  ACC          522550 non-null  float64\n",
      " 56  CON          522550 non-null  float64\n",
      " 57  ECO          522550 non-null  float64\n",
      " 58  FIN          522550 non-null  float64\n",
      " 59  INT          522550 non-null  float64\n",
      " 60  NRS          522550 non-null  float64\n",
      " 61  REQ          522550 non-null  float64\n",
      " 62  RSP          522550 non-null  float64\n",
      " 63  RST          522550 non-null  float64\n",
      " 64  TST          522550 non-null  float64\n",
      " 65  URP          522550 non-null  float64\n",
      " 66  Shutdown     522550 non-null  float64\n",
      " 67  Start        522550 non-null  float64\n",
      " 68  Status       522550 non-null  float64\n",
      " 69  39           522550 non-null  float64\n",
      " 70  4            522550 non-null  float64\n",
      " 71  52           522550 non-null  float64\n",
      " 72  54           522550 non-null  float64\n",
      " 73  af11         522550 non-null  float64\n",
      " 74  af12         522550 non-null  float64\n",
      " 75  af41         522550 non-null  float64\n",
      " 76  cs0          522550 non-null  float64\n",
      " 77  cs4          522550 non-null  float64\n",
      " 78  cs6          522550 non-null  float64\n",
      " 79  cs7          522550 non-null  float64\n",
      " 80  ef           522550 non-null  float64\n",
      "dtypes: float64(69), int64(11), object(1)\n",
      "memory usage: 322.9+ MB\n"
     ]
    }
   ],
   "source": [
    "df.info()"
   ]
  },
  {
   "cell_type": "code",
   "execution_count": 4,
   "id": "bf02e490",
   "metadata": {},
   "outputs": [
    {
     "data": {
      "text/plain": [
       "Attack Type\n",
       "Benign            54.827672\n",
       "SlowrateDoS       13.993685\n",
       "HTTPFlood         10.778873\n",
       "UDPFlood           8.752081\n",
       "TCPConnectScan     3.837336\n",
       "UDPScan            3.043919\n",
       "SYNScan            2.685102\n",
       "SYNFlood           1.860300\n",
       "ICMPFlood          0.221031\n",
       "Name: proportion, dtype: float64"
      ]
     },
     "execution_count": 4,
     "metadata": {},
     "output_type": "execute_result"
    }
   ],
   "source": [
    "# Poucentage des classes\n",
    "def calc_percentage_classes(df):\n",
    "    return df[LABEL_COLUMN].value_counts(normalize=True)*100\n",
    "\n",
    "calc_percentage_classes(df)"
   ]
  },
  {
   "cell_type": "markdown",
   "id": "bb8a625a",
   "metadata": {},
   "source": [
    "# Tests"
   ]
  },
  {
   "cell_type": "markdown",
   "id": "61e412fe",
   "metadata": {},
   "source": [
    "# Tester la partie du CIL\n"
   ]
  },
  {
   "cell_type": "code",
   "execution_count": null,
   "id": "f2fc6349",
   "metadata": {},
   "outputs": [],
   "source": [
    "python3 main.py \n",
    "        --experiment 5GNIDD \n",
    "        --scenario class --replay buffer --contexts 8  --structure 3 \n",
    "        --fc-layers 4 --fc-units 300 \n",
    "        --iters 5 \n"
   ]
  },
  {
   "cell_type": "markdown",
   "id": "52176ae7",
   "metadata": {},
   "source": [
    "# Tester la partie CIL+FL"
   ]
  },
  {
   "cell_type": "code",
   "execution_count": null,
   "id": "7a8a6be4",
   "metadata": {},
   "outputs": [],
   "source": [
    "python3 main.py \n",
    "        # CIL\n",
    "        --experiment 5GNIDD \n",
    "        --scenario class --replay buffer --contexts 8  --structure 3 \n",
    "        --fc-layers 4 --fc-units 300 \n",
    "        --iters 5 \n",
    "        # FL\n",
    "        --fl \n",
    "        --fl-num-clients 3  \n",
    "        --fl-global-iters 2  \n",
    "        --fl-iid  \n",
    "        --fl-frac 1 \n"
   ]
  },
  {
   "cell_type": "markdown",
   "id": "08ef165a",
   "metadata": {},
   "source": [
    "# Tester la partie CIL+FL+BC"
   ]
  },
  {
   "cell_type": "code",
   "execution_count": null,
   "id": "b279b57b",
   "metadata": {},
   "outputs": [],
   "source": [
    "python3 main.py \n",
    "        # CIL\n",
    "        --experiment 5GNIDD \n",
    "        --scenario class --replay buffer --contexts 8  --structure 3 \n",
    "        --fc-layers 4 --fc-units 300 \n",
    "        --iters 5  \n",
    "        # BC\n",
    "        --bc\n",
    "        -bc-nd 7 -bc-ha 4,3,0 -bc-nm 2 \n",
    "        -bc-max_ncomm 2\n",
    "        -bc-vh 0.05 -bc-ko 2 \n",
    "        --bc-cpu --bc-iid -bc-aio 1 -bc-pow 0 -bc-cs 0 --bc-cons poa "
   ]
  }
 ],
 "metadata": {
  "kernelspec": {
   "display_name": "Python 3 (ipykernel)",
   "language": "python",
   "name": "python3"
  },
  "language_info": {
   "codemirror_mode": {
    "name": "ipython",
    "version": 3
   },
   "file_extension": ".py",
   "mimetype": "text/x-python",
   "name": "python",
   "nbconvert_exporter": "python",
   "pygments_lexer": "ipython3",
   "version": "3.10.12"
  }
 },
 "nbformat": 4,
 "nbformat_minor": 5
}
